{
 "cells": [
  {
   "cell_type": "code",
   "execution_count": 3,
   "metadata": {},
   "outputs": [
    {
     "name": "stderr",
     "output_type": "stream",
     "text": [
      "c:\\Users\\abrau\\anaconda3\\Lib\\site-packages\\pandas\\core\\arrays\\masked.py:60: UserWarning: Pandas requires version '1.3.6' or newer of 'bottleneck' (version '1.3.5' currently installed).\n",
      "  from pandas.core import (\n"
     ]
    },
    {
     "name": "stdout",
     "output_type": "stream",
     "text": [
      "Training data saved to: C:\\Users\\abrau\\uvic\\seng474\\project\\CryptoAI\\AndrewFiles\\XBTUSD_60_train.csv\n",
      "Test data saved to: C:\\Users\\abrau\\uvic\\seng474\\project\\CryptoAI\\AndrewFiles\\XBTUSD_60_test.csv\n"
     ]
    }
   ],
   "source": [
    "import pandas as pd\n",
    "import os\n",
    "\n",
    "output_directory = r'C:\\Users\\abrau\\uvic\\seng474\\project\\CryptoAI\\AndrewFiles'\n",
    "\n",
    "# Load the processed CSV file into a DataFrame\n",
    "processed_df = pd.read_csv(r'C:\\Users\\abrau\\uvic\\seng474\\project\\CryptoAI\\AndrewFiles\\XBTUSD_60.csv')\n",
    "\n",
    "# Determine the split point (80% training, 20% test)\n",
    "split_index = int(len(processed_df) * 0.8)\n",
    "\n",
    "# Split the data\n",
    "train_df = processed_df.iloc[:split_index]  # Top 80% for training\n",
    "test_df = processed_df.iloc[split_index:]   # Bottom 20% for testing\n",
    "\n",
    "# Save the training and test sets to separate CSV files\n",
    "train_filepath = os.path.join(output_directory, \"XBTUSD_60_train.csv\")\n",
    "test_filepath = os.path.join(output_directory, \"XBTUSD_60_test.csv\")\n",
    "\n",
    "train_df.to_csv(train_filepath, index=False)\n",
    "test_df.to_csv(test_filepath, index=False)\n",
    "\n",
    "print(f\"Training data saved to: {train_filepath}\")\n",
    "print(f\"Test data saved to: {test_filepath}\")"
   ]
  },
  {
   "cell_type": "code",
   "execution_count": 4,
   "metadata": {},
   "outputs": [],
   "source": [
    "import pandas as pd\n",
    "import numpy as np\n",
    "import tensorflow as tf\n",
    "from tensorflow.keras.models import Sequential\n",
    "from tensorflow.keras.layers import LSTM, Dense, Dropout\n",
    "from sklearn.preprocessing import MinMaxScaler\n",
    "\n",
    "# Load the training data\n",
    "train_filepath = r'C:\\Users\\abrau\\uvic\\seng474\\project\\CryptoAI\\AndrewFiles\\XBTUSD_60_train.csv'\n",
    "train_df = pd.read_csv(train_filepath)\n",
    "\n",
    "# Extract relevant features (excluding Timestamp)\n",
    "train_data = train_df.iloc[:, 1:].values  # OHLSVT columns\n",
    "\n",
    "# Normalize data\n",
    "scaler = MinMaxScaler()\n",
    "train_data_scaled = scaler.fit_transform(train_data)\n",
    "\n",
    "# Create sequences for LSTM\n",
    "sequence_length = 50  # Use past 50 timesteps to predict next\n",
    "X_train, y_train = [], []\n",
    "for i in range(len(train_data_scaled) - sequence_length):\n",
    "    X_train.append(train_data_scaled[i:i+sequence_length])\n",
    "    y_train.append(train_data_scaled[i+sequence_length, 3])  # Predict closing price\n",
    "\n",
    "X_train, y_train = np.array(X_train), np.array(y_train)"
   ]
  },
  {
   "cell_type": "code",
   "execution_count": 8,
   "metadata": {},
   "outputs": [
    {
     "name": "stdout",
     "output_type": "stream",
     "text": [
      "Epoch 1/20\n"
     ]
    },
    {
     "name": "stderr",
     "output_type": "stream",
     "text": [
      "c:\\Users\\abrau\\anaconda3\\Lib\\site-packages\\keras\\src\\layers\\rnn\\rnn.py:200: UserWarning: Do not pass an `input_shape`/`input_dim` argument to a layer. When using Sequential models, prefer using an `Input(shape)` object as the first layer in the model instead.\n",
      "  super().__init__(**kwargs)\n"
     ]
    },
    {
     "name": "stdout",
     "output_type": "stream",
     "text": [
      "\u001b[1m1708/1708\u001b[0m \u001b[32m━━━━━━━━━━━━━━━━━━━━\u001b[0m\u001b[37m\u001b[0m \u001b[1m38s\u001b[0m 20ms/step - loss: 9.3058e-04 - mae: 0.0126 - mse: 9.3058e-04 - val_loss: 0.0014 - val_mae: 0.0336 - val_mse: 0.0014\n",
      "Epoch 2/20\n",
      "\u001b[1m1708/1708\u001b[0m \u001b[32m━━━━━━━━━━━━━━━━━━━━\u001b[0m\u001b[37m\u001b[0m \u001b[1m35s\u001b[0m 20ms/step - loss: 1.5905e-04 - mae: 0.0067 - mse: 1.5905e-04 - val_loss: 2.0469e-04 - val_mae: 0.0093 - val_mse: 2.0469e-04\n",
      "Epoch 3/20\n",
      "\u001b[1m1708/1708\u001b[0m \u001b[32m━━━━━━━━━━━━━━━━━━━━\u001b[0m\u001b[37m\u001b[0m \u001b[1m34s\u001b[0m 20ms/step - loss: 1.3734e-04 - mae: 0.0063 - mse: 1.3734e-04 - val_loss: 0.0020 - val_mae: 0.0377 - val_mse: 0.0020\n",
      "Epoch 4/20\n",
      "\u001b[1m1708/1708\u001b[0m \u001b[32m━━━━━━━━━━━━━━━━━━━━\u001b[0m\u001b[37m\u001b[0m \u001b[1m34s\u001b[0m 20ms/step - loss: 1.1266e-04 - mae: 0.0058 - mse: 1.1266e-04 - val_loss: 0.0047 - val_mae: 0.0595 - val_mse: 0.0047\n",
      "Epoch 5/20\n",
      "\u001b[1m1708/1708\u001b[0m \u001b[32m━━━━━━━━━━━━━━━━━━━━\u001b[0m\u001b[37m\u001b[0m \u001b[1m35s\u001b[0m 20ms/step - loss: 1.1957e-04 - mae: 0.0057 - mse: 1.1957e-04 - val_loss: 0.0043 - val_mae: 0.0551 - val_mse: 0.0043\n",
      "Epoch 6/20\n",
      "\u001b[1m1708/1708\u001b[0m \u001b[32m━━━━━━━━━━━━━━━━━━━━\u001b[0m\u001b[37m\u001b[0m \u001b[1m41s\u001b[0m 24ms/step - loss: 8.6389e-05 - mae: 0.0050 - mse: 8.6389e-05 - val_loss: 0.0027 - val_mae: 0.0460 - val_mse: 0.0027\n",
      "Epoch 7/20\n",
      "\u001b[1m1708/1708\u001b[0m \u001b[32m━━━━━━━━━━━━━━━━━━━━\u001b[0m\u001b[37m\u001b[0m \u001b[1m40s\u001b[0m 24ms/step - loss: 7.4886e-05 - mae: 0.0046 - mse: 7.4886e-05 - val_loss: 0.0043 - val_mae: 0.0539 - val_mse: 0.0043\n",
      "Epoch 8/20\n",
      "\u001b[1m1708/1708\u001b[0m \u001b[32m━━━━━━━━━━━━━━━━━━━━\u001b[0m\u001b[37m\u001b[0m \u001b[1m43s\u001b[0m 25ms/step - loss: 7.0786e-05 - mae: 0.0044 - mse: 7.0786e-05 - val_loss: 0.0036 - val_mae: 0.0501 - val_mse: 0.0036\n",
      "Epoch 9/20\n",
      "\u001b[1m1708/1708\u001b[0m \u001b[32m━━━━━━━━━━━━━━━━━━━━\u001b[0m\u001b[37m\u001b[0m \u001b[1m35s\u001b[0m 21ms/step - loss: 6.1324e-05 - mae: 0.0042 - mse: 6.1324e-05 - val_loss: 0.0047 - val_mae: 0.0617 - val_mse: 0.0047\n",
      "Epoch 10/20\n",
      "\u001b[1m1708/1708\u001b[0m \u001b[32m━━━━━━━━━━━━━━━━━━━━\u001b[0m\u001b[37m\u001b[0m \u001b[1m35s\u001b[0m 21ms/step - loss: 5.7085e-05 - mae: 0.0040 - mse: 5.7085e-05 - val_loss: 0.0048 - val_mae: 0.0593 - val_mse: 0.0048\n",
      "Epoch 11/20\n",
      "\u001b[1m1708/1708\u001b[0m \u001b[32m━━━━━━━━━━━━━━━━━━━━\u001b[0m\u001b[37m\u001b[0m \u001b[1m40s\u001b[0m 23ms/step - loss: 4.9095e-05 - mae: 0.0037 - mse: 4.9095e-05 - val_loss: 0.0043 - val_mae: 0.0545 - val_mse: 0.0043\n",
      "Epoch 12/20\n",
      "\u001b[1m1708/1708\u001b[0m \u001b[32m━━━━━━━━━━━━━━━━━━━━\u001b[0m\u001b[37m\u001b[0m \u001b[1m38s\u001b[0m 22ms/step - loss: 4.1561e-05 - mae: 0.0036 - mse: 4.1561e-05 - val_loss: 0.0053 - val_mae: 0.0629 - val_mse: 0.0053\n",
      "Epoch 13/20\n",
      "\u001b[1m1708/1708\u001b[0m \u001b[32m━━━━━━━━━━━━━━━━━━━━\u001b[0m\u001b[37m\u001b[0m \u001b[1m38s\u001b[0m 22ms/step - loss: 3.5426e-05 - mae: 0.0032 - mse: 3.5426e-05 - val_loss: 0.0052 - val_mae: 0.0627 - val_mse: 0.0052\n",
      "Epoch 14/20\n",
      "\u001b[1m1708/1708\u001b[0m \u001b[32m━━━━━━━━━━━━━━━━━━━━\u001b[0m\u001b[37m\u001b[0m \u001b[1m40s\u001b[0m 24ms/step - loss: 3.7777e-05 - mae: 0.0033 - mse: 3.7777e-05 - val_loss: 0.0043 - val_mae: 0.0579 - val_mse: 0.0043\n",
      "Epoch 15/20\n",
      "\u001b[1m1708/1708\u001b[0m \u001b[32m━━━━━━━━━━━━━━━━━━━━\u001b[0m\u001b[37m\u001b[0m \u001b[1m38s\u001b[0m 22ms/step - loss: 3.8800e-05 - mae: 0.0034 - mse: 3.8800e-05 - val_loss: 0.0071 - val_mae: 0.0742 - val_mse: 0.0071\n",
      "Epoch 16/20\n",
      "\u001b[1m1708/1708\u001b[0m \u001b[32m━━━━━━━━━━━━━━━━━━━━\u001b[0m\u001b[37m\u001b[0m \u001b[1m41s\u001b[0m 24ms/step - loss: 3.2135e-05 - mae: 0.0032 - mse: 3.2135e-05 - val_loss: 0.0083 - val_mae: 0.0823 - val_mse: 0.0083\n",
      "Epoch 17/20\n",
      "\u001b[1m1708/1708\u001b[0m \u001b[32m━━━━━━━━━━━━━━━━━━━━\u001b[0m\u001b[37m\u001b[0m \u001b[1m40s\u001b[0m 23ms/step - loss: 3.5101e-05 - mae: 0.0033 - mse: 3.5101e-05 - val_loss: 0.0069 - val_mae: 0.0744 - val_mse: 0.0069\n",
      "Epoch 18/20\n",
      "\u001b[1m1708/1708\u001b[0m \u001b[32m━━━━━━━━━━━━━━━━━━━━\u001b[0m\u001b[37m\u001b[0m \u001b[1m39s\u001b[0m 23ms/step - loss: 3.2791e-05 - mae: 0.0032 - mse: 3.2791e-05 - val_loss: 0.0078 - val_mae: 0.0798 - val_mse: 0.0078\n",
      "Epoch 19/20\n",
      "\u001b[1m1708/1708\u001b[0m \u001b[32m━━━━━━━━━━━━━━━━━━━━\u001b[0m\u001b[37m\u001b[0m \u001b[1m41s\u001b[0m 22ms/step - loss: 3.0326e-05 - mae: 0.0031 - mse: 3.0326e-05 - val_loss: 0.0069 - val_mae: 0.0747 - val_mse: 0.0069\n",
      "Epoch 20/20\n",
      "\u001b[1m1708/1708\u001b[0m \u001b[32m━━━━━━━━━━━━━━━━━━━━\u001b[0m\u001b[37m\u001b[0m \u001b[1m36s\u001b[0m 21ms/step - loss: 2.9689e-05 - mae: 0.0031 - mse: 2.9689e-05 - val_loss: 0.0059 - val_mae: 0.0675 - val_mse: 0.0059\n",
      "loss: 3.3368149161105976e-05\n",
      "mae: 0.003191500436514616\n",
      "mse: 3.3368149161105976e-05\n",
      "val_loss: 0.005905482452362776\n",
      "val_mae: 0.067488893866539\n",
      "val_mse: 0.005905482452362776\n"
     ]
    }
   ],
   "source": [
    "# Define LSTM model\n",
    "model = Sequential([\n",
    "    LSTM(50, return_sequences=True, input_shape=(sequence_length, train_data.shape[1])),\n",
    "    Dropout(0.2),\n",
    "    LSTM(50, return_sequences=False),\n",
    "    Dropout(0.2),\n",
    "    Dense(25, activation='relu'),\n",
    "    Dense(1)\n",
    "])\n",
    "\n",
    "# Compile the model\n",
    "model.compile(optimizer='adam', loss='mean_squared_error', metrics=['mae', 'mse'])\n",
    "\n",
    "# Train the model\n",
    "history = model.fit(X_train, y_train, epochs=20, batch_size=32, validation_split=0.2, verbose=1)\n",
    "\n",
    "# Print accuracy metrics\n",
    "for key in history.history.keys():\n",
    "    print(f\"{key}: {history.history[key][-1]}\")"
   ]
  },
  {
   "cell_type": "code",
   "execution_count": null,
   "metadata": {},
   "outputs": [],
   "source": []
  }
 ],
 "metadata": {
  "kernelspec": {
   "display_name": "Python 3",
   "language": "python",
   "name": "python3"
  },
  "language_info": {
   "codemirror_mode": {
    "name": "ipython",
    "version": 3
   },
   "file_extension": ".py",
   "mimetype": "text/x-python",
   "name": "python",
   "nbconvert_exporter": "python",
   "pygments_lexer": "ipython3",
   "version": "3.11.5"
  }
 },
 "nbformat": 4,
 "nbformat_minor": 2
}
